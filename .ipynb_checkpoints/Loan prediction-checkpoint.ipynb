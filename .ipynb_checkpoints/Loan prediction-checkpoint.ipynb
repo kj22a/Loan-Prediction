{
 "cells": [
  {
   "cell_type": "markdown",
   "metadata": {},
   "source": [
    "# Predicting Loan Approval Status\n",
    "\n",
    "The project aims to predict the loan approval outcome based on 12 features including marital status, credit score, and others. Through exploratory data analysis, statistical tests, and machine learning classification, the model successfully identifies factors influencing loan approval. The final model accurately predicts loan acceptance or rejection, offering valuable insights for risk assessment and decision-making in lending processes.\n",
    "\n",
    "The stages of the proecess: \n",
    "1. Exploratory Data Analysis: Making Simple Deductions About the Data\n",
    "2. Feature Selection: Utilising Statistical Tests to Select Features\n",
    "3. Impact Visualisation: Visualising the Impact of Independent Variables on the Dependent Variable\n",
    "4. Machine Learning Classification: Employing Machine Learning for Classification"
   ]
  },
  {
   "cell_type": "code",
   "execution_count": 1,
   "metadata": {},
   "outputs": [],
   "source": [
    "# Import libraries\n",
    "import pandas as pd\n",
    "import numpy as np\n",
    "import matplotlib.pyplot as plt\n",
    "import seaborn as sns\n",
    "from sklearn import preprocessing \n",
    "from scipy.stats import chi2_contingency , kstest, mannwhitneyu\n",
    "from sklearn.preprocessing import StandardScaler, OneHotEncoder\n",
    "from sklearn.impute import SimpleImputer\n",
    "import math\n",
    "from sklearn.pipeline import Pipeline\n",
    "from sklearn.decomposition import TruncatedSVD\n",
    "from xgboost import XGBClassifier\n",
    "from sklearn.linear_model import LogisticRegression\n",
    "from sklearn.neighbors import KNeighborsClassifier\n",
    "from sklearn import svm\n",
    "from sklearn.tree import DecisionTreeClassifier\n",
    "from sklearn.naive_bayes import GaussianNB\n",
    "from sklearn.ensemble import RandomForestClassifier\n",
    "from sklearn.compose import ColumnTransformer\n",
    "from sklearn.model_selection import cross_val_score, GridSearchCV, train_test_split\n",
    "import warnings\n",
    "warnings.filterwarnings(\"ignore\")\n",
    "from sklearn.metrics import accuracy_score, f1_score, confusion_matrix, roc_curve, roc_auc_score\n",
    "from mlxtend.classifier import StackingClassifier\n",
    "from skopt import BayesSearchCV\n",
    "from skopt import gp_minimize\n",
    "from skopt.space import Categorical, Integer, Real\n",
    "import random\n",
    "random.seed(42)\n",
    "%matplotlib inline"
   ]
  },
  {
   "cell_type": "markdown",
   "metadata": {},
   "source": [
    "# 1. Exploratory Data Analysis"
   ]
  },
  {
   "cell_type": "code",
   "execution_count": 2,
   "metadata": {},
   "outputs": [],
   "source": [
    "# Import data\n",
    "loan = pd.read_csv(r\"C:\\Users\\karuj\\Downloads\\archive (30)\\loan_data.csv\")"
   ]
  },
  {
   "cell_type": "code",
   "execution_count": 3,
   "metadata": {},
   "outputs": [
    {
     "data": {
      "text/html": [
       "<div>\n",
       "<style scoped>\n",
       "    .dataframe tbody tr th:only-of-type {\n",
       "        vertical-align: middle;\n",
       "    }\n",
       "\n",
       "    .dataframe tbody tr th {\n",
       "        vertical-align: top;\n",
       "    }\n",
       "\n",
       "    .dataframe thead th {\n",
       "        text-align: right;\n",
       "    }\n",
       "</style>\n",
       "<table border=\"1\" class=\"dataframe\">\n",
       "  <thead>\n",
       "    <tr style=\"text-align: right;\">\n",
       "      <th></th>\n",
       "      <th>Loan_ID</th>\n",
       "      <th>Gender</th>\n",
       "      <th>Married</th>\n",
       "      <th>Dependents</th>\n",
       "      <th>Education</th>\n",
       "      <th>Self_Employed</th>\n",
       "      <th>ApplicantIncome</th>\n",
       "      <th>CoapplicantIncome</th>\n",
       "      <th>LoanAmount</th>\n",
       "      <th>Loan_Amount_Term</th>\n",
       "      <th>Credit_History</th>\n",
       "      <th>Property_Area</th>\n",
       "      <th>Loan_Status</th>\n",
       "    </tr>\n",
       "  </thead>\n",
       "  <tbody>\n",
       "    <tr>\n",
       "      <td>0</td>\n",
       "      <td>LP001003</td>\n",
       "      <td>Male</td>\n",
       "      <td>Yes</td>\n",
       "      <td>1</td>\n",
       "      <td>Graduate</td>\n",
       "      <td>No</td>\n",
       "      <td>4583</td>\n",
       "      <td>1508.0</td>\n",
       "      <td>128.0</td>\n",
       "      <td>360.0</td>\n",
       "      <td>1.0</td>\n",
       "      <td>Rural</td>\n",
       "      <td>N</td>\n",
       "    </tr>\n",
       "    <tr>\n",
       "      <td>1</td>\n",
       "      <td>LP001005</td>\n",
       "      <td>Male</td>\n",
       "      <td>Yes</td>\n",
       "      <td>0</td>\n",
       "      <td>Graduate</td>\n",
       "      <td>Yes</td>\n",
       "      <td>3000</td>\n",
       "      <td>0.0</td>\n",
       "      <td>66.0</td>\n",
       "      <td>360.0</td>\n",
       "      <td>1.0</td>\n",
       "      <td>Urban</td>\n",
       "      <td>Y</td>\n",
       "    </tr>\n",
       "    <tr>\n",
       "      <td>2</td>\n",
       "      <td>LP001006</td>\n",
       "      <td>Male</td>\n",
       "      <td>Yes</td>\n",
       "      <td>0</td>\n",
       "      <td>Not Graduate</td>\n",
       "      <td>No</td>\n",
       "      <td>2583</td>\n",
       "      <td>2358.0</td>\n",
       "      <td>120.0</td>\n",
       "      <td>360.0</td>\n",
       "      <td>1.0</td>\n",
       "      <td>Urban</td>\n",
       "      <td>Y</td>\n",
       "    </tr>\n",
       "    <tr>\n",
       "      <td>3</td>\n",
       "      <td>LP001008</td>\n",
       "      <td>Male</td>\n",
       "      <td>No</td>\n",
       "      <td>0</td>\n",
       "      <td>Graduate</td>\n",
       "      <td>No</td>\n",
       "      <td>6000</td>\n",
       "      <td>0.0</td>\n",
       "      <td>141.0</td>\n",
       "      <td>360.0</td>\n",
       "      <td>1.0</td>\n",
       "      <td>Urban</td>\n",
       "      <td>Y</td>\n",
       "    </tr>\n",
       "    <tr>\n",
       "      <td>4</td>\n",
       "      <td>LP001013</td>\n",
       "      <td>Male</td>\n",
       "      <td>Yes</td>\n",
       "      <td>0</td>\n",
       "      <td>Not Graduate</td>\n",
       "      <td>No</td>\n",
       "      <td>2333</td>\n",
       "      <td>1516.0</td>\n",
       "      <td>95.0</td>\n",
       "      <td>360.0</td>\n",
       "      <td>1.0</td>\n",
       "      <td>Urban</td>\n",
       "      <td>Y</td>\n",
       "    </tr>\n",
       "  </tbody>\n",
       "</table>\n",
       "</div>"
      ],
      "text/plain": [
       "    Loan_ID Gender Married Dependents     Education Self_Employed  \\\n",
       "0  LP001003   Male     Yes          1      Graduate            No   \n",
       "1  LP001005   Male     Yes          0      Graduate           Yes   \n",
       "2  LP001006   Male     Yes          0  Not Graduate            No   \n",
       "3  LP001008   Male      No          0      Graduate            No   \n",
       "4  LP001013   Male     Yes          0  Not Graduate            No   \n",
       "\n",
       "   ApplicantIncome  CoapplicantIncome  LoanAmount  Loan_Amount_Term  \\\n",
       "0             4583             1508.0       128.0             360.0   \n",
       "1             3000                0.0        66.0             360.0   \n",
       "2             2583             2358.0       120.0             360.0   \n",
       "3             6000                0.0       141.0             360.0   \n",
       "4             2333             1516.0        95.0             360.0   \n",
       "\n",
       "   Credit_History Property_Area Loan_Status  \n",
       "0             1.0         Rural           N  \n",
       "1             1.0         Urban           Y  \n",
       "2             1.0         Urban           Y  \n",
       "3             1.0         Urban           Y  \n",
       "4             1.0         Urban           Y  "
      ]
     },
     "execution_count": 3,
     "metadata": {},
     "output_type": "execute_result"
    }
   ],
   "source": [
    "# Look at the formatting of the data\n",
    "loan.head()"
   ]
  },
  {
   "cell_type": "code",
   "execution_count": 4,
   "metadata": {},
   "outputs": [
    {
     "data": {
      "text/html": [
       "<div>\n",
       "<style scoped>\n",
       "    .dataframe tbody tr th:only-of-type {\n",
       "        vertical-align: middle;\n",
       "    }\n",
       "\n",
       "    .dataframe tbody tr th {\n",
       "        vertical-align: top;\n",
       "    }\n",
       "\n",
       "    .dataframe thead th {\n",
       "        text-align: right;\n",
       "    }\n",
       "</style>\n",
       "<table border=\"1\" class=\"dataframe\">\n",
       "  <thead>\n",
       "    <tr style=\"text-align: right;\">\n",
       "      <th></th>\n",
       "      <th>ApplicantIncome</th>\n",
       "      <th>CoapplicantIncome</th>\n",
       "      <th>LoanAmount</th>\n",
       "      <th>Loan_Amount_Term</th>\n",
       "      <th>Credit_History</th>\n",
       "    </tr>\n",
       "  </thead>\n",
       "  <tbody>\n",
       "    <tr>\n",
       "      <td>count</td>\n",
       "      <td>381.000000</td>\n",
       "      <td>381.000000</td>\n",
       "      <td>381.000000</td>\n",
       "      <td>370.000000</td>\n",
       "      <td>351.000000</td>\n",
       "    </tr>\n",
       "    <tr>\n",
       "      <td>mean</td>\n",
       "      <td>3579.845144</td>\n",
       "      <td>1277.275381</td>\n",
       "      <td>104.986877</td>\n",
       "      <td>340.864865</td>\n",
       "      <td>0.837607</td>\n",
       "    </tr>\n",
       "    <tr>\n",
       "      <td>std</td>\n",
       "      <td>1419.813818</td>\n",
       "      <td>2340.818114</td>\n",
       "      <td>28.358464</td>\n",
       "      <td>68.549257</td>\n",
       "      <td>0.369338</td>\n",
       "    </tr>\n",
       "    <tr>\n",
       "      <td>min</td>\n",
       "      <td>150.000000</td>\n",
       "      <td>0.000000</td>\n",
       "      <td>9.000000</td>\n",
       "      <td>12.000000</td>\n",
       "      <td>0.000000</td>\n",
       "    </tr>\n",
       "    <tr>\n",
       "      <td>25%</td>\n",
       "      <td>2600.000000</td>\n",
       "      <td>0.000000</td>\n",
       "      <td>90.000000</td>\n",
       "      <td>360.000000</td>\n",
       "      <td>1.000000</td>\n",
       "    </tr>\n",
       "    <tr>\n",
       "      <td>50%</td>\n",
       "      <td>3333.000000</td>\n",
       "      <td>983.000000</td>\n",
       "      <td>110.000000</td>\n",
       "      <td>360.000000</td>\n",
       "      <td>1.000000</td>\n",
       "    </tr>\n",
       "    <tr>\n",
       "      <td>75%</td>\n",
       "      <td>4288.000000</td>\n",
       "      <td>2016.000000</td>\n",
       "      <td>127.000000</td>\n",
       "      <td>360.000000</td>\n",
       "      <td>1.000000</td>\n",
       "    </tr>\n",
       "    <tr>\n",
       "      <td>max</td>\n",
       "      <td>9703.000000</td>\n",
       "      <td>33837.000000</td>\n",
       "      <td>150.000000</td>\n",
       "      <td>480.000000</td>\n",
       "      <td>1.000000</td>\n",
       "    </tr>\n",
       "  </tbody>\n",
       "</table>\n",
       "</div>"
      ],
      "text/plain": [
       "       ApplicantIncome  CoapplicantIncome  LoanAmount  Loan_Amount_Term  \\\n",
       "count       381.000000         381.000000  381.000000        370.000000   \n",
       "mean       3579.845144        1277.275381  104.986877        340.864865   \n",
       "std        1419.813818        2340.818114   28.358464         68.549257   \n",
       "min         150.000000           0.000000    9.000000         12.000000   \n",
       "25%        2600.000000           0.000000   90.000000        360.000000   \n",
       "50%        3333.000000         983.000000  110.000000        360.000000   \n",
       "75%        4288.000000        2016.000000  127.000000        360.000000   \n",
       "max        9703.000000       33837.000000  150.000000        480.000000   \n",
       "\n",
       "       Credit_History  \n",
       "count      351.000000  \n",
       "mean         0.837607  \n",
       "std          0.369338  \n",
       "min          0.000000  \n",
       "25%          1.000000  \n",
       "50%          1.000000  \n",
       "75%          1.000000  \n",
       "max          1.000000  "
      ]
     },
     "execution_count": 4,
     "metadata": {},
     "output_type": "execute_result"
    }
   ],
   "source": [
    "# Check the data stats\n",
    "loan.describe()"
   ]
  },
  {
   "cell_type": "code",
   "execution_count": 5,
   "metadata": {},
   "outputs": [
    {
     "data": {
      "text/plain": [
       "(381, 13)"
      ]
     },
     "execution_count": 5,
     "metadata": {},
     "output_type": "execute_result"
    }
   ],
   "source": [
    "# Find the shape of the data\n",
    "(r, c) = loan.shape\n",
    "(r,c)"
   ]
  },
  {
   "cell_type": "code",
   "execution_count": 6,
   "metadata": {},
   "outputs": [
    {
     "data": {
      "text/plain": [
       "Loan_ID              381\n",
       "Gender                 2\n",
       "Married                2\n",
       "Dependents             4\n",
       "Education              2\n",
       "Self_Employed          2\n",
       "ApplicantIncome      322\n",
       "CoapplicantIncome    182\n",
       "LoanAmount           101\n",
       "Loan_Amount_Term      10\n",
       "Credit_History         2\n",
       "Property_Area          3\n",
       "Loan_Status            2\n",
       "dtype: int64"
      ]
     },
     "execution_count": 6,
     "metadata": {},
     "output_type": "execute_result"
    }
   ],
   "source": [
    "loan.nunique()"
   ]
  },
  {
   "cell_type": "markdown",
   "metadata": {},
   "source": [
    "Based on the data above, we can deduce the following insights about the dataset:\n",
    "\n",
    "- There are 6 binary columns.\n",
    "- Loan_Amount_Term, Dependents, and Property_Area can be classified as categorical data due to the lack of uniqueness in the data.\n",
    "- LoanAmount, ApplicantIncome, and CoapplicantIncome are numerical data.\n",
    "- Loan_ID is unique for each row and may not provide meaningful information for analysis.\n",
    "\n",
    "Therefore, we can consider removing the Loan_ID column from the dataset as it doesn't contribute to the analysis of the loan applications. "
   ]
  },
  {
   "cell_type": "code",
   "execution_count": 7,
   "metadata": {},
   "outputs": [],
   "source": [
    "loan.drop(columns=[\"Loan_ID\"], inplace=True)"
   ]
  },
  {
   "cell_type": "markdown",
   "metadata": {},
   "source": [
    "Outliers will be removed from the dataset by considering values beyond 4 standard deviations from the mean. Samples falling outside this range will be excluded to enhance data integrity and analysis reliability."
   ]
  },
  {
   "cell_type": "code",
   "execution_count": 8,
   "metadata": {},
   "outputs": [
    {
     "name": "stdout",
     "output_type": "stream",
     "text": [
      "Shape of cleaned DataFrame: (374, 12)\n",
      "Dropped rows:\n",
      "    Gender Married Dependents     Education Self_Employed  ApplicantIncome  \\\n",
      "99    Male     Yes          0      Graduate            No             9323   \n",
      "153   Male     Yes          2      Graduate            No             9703   \n",
      "256   Male      No          0      Graduate            No             2500   \n",
      "364   Male      No          0      Graduate            No             1836   \n",
      "49    Male     Yes         3+  Not Graduate           Yes             7100   \n",
      "315   Male     Yes          0      Graduate            No             4625   \n",
      "345   Male      No          0  Not Graduate            No             3358   \n",
      "\n",
      "     CoapplicantIncome  LoanAmount  Loan_Amount_Term  Credit_History  \\\n",
      "99                 0.0        75.0             180.0             1.0   \n",
      "153                0.0       112.0             360.0             1.0   \n",
      "256            20000.0       103.0             360.0             1.0   \n",
      "364            33837.0        90.0             360.0             1.0   \n",
      "49                 0.0       125.0              60.0             1.0   \n",
      "315             2857.0       111.0              12.0             NaN   \n",
      "345                0.0        80.0              36.0             1.0   \n",
      "\n",
      "    Property_Area Loan_Status  \n",
      "99          Urban           Y  \n",
      "153         Urban           Y  \n",
      "256     Semiurban           Y  \n",
      "364         Urban           N  \n",
      "49          Urban           Y  \n",
      "315         Urban           Y  \n",
      "345     Semiurban           N  \n"
     ]
    }
   ],
   "source": [
    "def remove_outliers(df, threshold):\n",
    "    dropped_rows = pd.DataFrame()  # DataFrame to store dropped rows\n",
    "\n",
    "    # Iterate through each numeric column\n",
    "    for column in df.select_dtypes(include=np.number):\n",
    "        col_mean = df[column].mean()\n",
    "        col_std = df[column].std()\n",
    "\n",
    "        # Define the upper and lower bounds for outliers\n",
    "        lower_bound = col_mean - threshold * col_std\n",
    "        upper_bound = col_mean + threshold * col_std\n",
    "\n",
    "        # Identify outliers and store the dropped rows\n",
    "        outliers = df[(df[column] < lower_bound) | (df[column] > upper_bound)]\n",
    "        dropped_rows = pd.concat([dropped_rows, outliers])\n",
    "\n",
    "    # Remove outliers from the DataFrame\n",
    "    df_cleaned = df[~df.index.isin(dropped_rows.index)]\n",
    "\n",
    "    return df_cleaned, dropped_rows\n",
    "\n",
    "\n",
    "loan, dropped_rows = remove_outliers(loan, 4)\n",
    "print(\"Shape of cleaned DataFrame:\", loan.shape)\n",
    "print(\"Dropped rows:\")\n",
    "print(dropped_rows)"
   ]
  },
  {
   "cell_type": "markdown",
   "metadata": {},
   "source": [
    "A copy of the dataset is duplicated dataset is generated to conduct statistical analyses for feature selection. This copy allows for rigorous examination and evaluation of potential features, ensuring robustness in the feature selection process."
   ]
  },
  {
   "cell_type": "markdown",
   "metadata": {},
   "source": [
    "# 2. Feature Selection"
   ]
  },
  {
   "cell_type": "code",
   "execution_count": 9,
   "metadata": {},
   "outputs": [],
   "source": [
    "loan_copy = loan.copy()"
   ]
  },
  {
   "cell_type": "code",
   "execution_count": 10,
   "metadata": {},
   "outputs": [
    {
     "data": {
      "text/plain": [
       "Gender                5\n",
       "Married               0\n",
       "Dependents            8\n",
       "Education             0\n",
       "Self_Employed        21\n",
       "ApplicantIncome       0\n",
       "CoapplicantIncome     0\n",
       "LoanAmount            0\n",
       "Loan_Amount_Term     11\n",
       "Credit_History       29\n",
       "Property_Area         0\n",
       "Loan_Status           0\n",
       "dtype: int64"
      ]
     },
     "execution_count": 10,
     "metadata": {},
     "output_type": "execute_result"
    }
   ],
   "source": [
    "loan_copy.isna().sum()"
   ]
  },
  {
   "cell_type": "markdown",
   "metadata": {},
   "source": [
    "The total count of null values across columns is computed and subsequently removed to facilitate statistical testing. This preprocessing step is essential as statistical analyses cannot be conducted on the dataset with null values."
   ]
  },
  {
   "cell_type": "code",
   "execution_count": 11,
   "metadata": {},
   "outputs": [
    {
     "data": {
      "text/plain": [
       "(302, 12)"
      ]
     },
     "execution_count": 11,
     "metadata": {},
     "output_type": "execute_result"
    }
   ],
   "source": [
    "loan_copy.dropna(inplace=True)\n",
    "loan_copy.shape"
   ]
  },
  {
   "cell_type": "markdown",
   "metadata": {},
   "source": [
    "Label encoding is employed to transform categorical data represented as strings into corresponding integer values."
   ]
  },
  {
   "cell_type": "code",
   "execution_count": 12,
   "metadata": {},
   "outputs": [
    {
     "data": {
      "text/html": [
       "<div>\n",
       "<style scoped>\n",
       "    .dataframe tbody tr th:only-of-type {\n",
       "        vertical-align: middle;\n",
       "    }\n",
       "\n",
       "    .dataframe tbody tr th {\n",
       "        vertical-align: top;\n",
       "    }\n",
       "\n",
       "    .dataframe thead th {\n",
       "        text-align: right;\n",
       "    }\n",
       "</style>\n",
       "<table border=\"1\" class=\"dataframe\">\n",
       "  <thead>\n",
       "    <tr style=\"text-align: right;\">\n",
       "      <th></th>\n",
       "      <th>Gender</th>\n",
       "      <th>Married</th>\n",
       "      <th>Dependents</th>\n",
       "      <th>Education</th>\n",
       "      <th>Self_Employed</th>\n",
       "      <th>ApplicantIncome</th>\n",
       "      <th>CoapplicantIncome</th>\n",
       "      <th>LoanAmount</th>\n",
       "      <th>Loan_Amount_Term</th>\n",
       "      <th>Credit_History</th>\n",
       "      <th>Property_Area</th>\n",
       "      <th>Loan_Status</th>\n",
       "    </tr>\n",
       "  </thead>\n",
       "  <tbody>\n",
       "    <tr>\n",
       "      <td>0</td>\n",
       "      <td>1</td>\n",
       "      <td>1</td>\n",
       "      <td>1</td>\n",
       "      <td>0</td>\n",
       "      <td>0</td>\n",
       "      <td>4583</td>\n",
       "      <td>1508.0</td>\n",
       "      <td>128.0</td>\n",
       "      <td>360.0</td>\n",
       "      <td>1.0</td>\n",
       "      <td>0</td>\n",
       "      <td>0</td>\n",
       "    </tr>\n",
       "    <tr>\n",
       "      <td>1</td>\n",
       "      <td>1</td>\n",
       "      <td>1</td>\n",
       "      <td>0</td>\n",
       "      <td>0</td>\n",
       "      <td>1</td>\n",
       "      <td>3000</td>\n",
       "      <td>0.0</td>\n",
       "      <td>66.0</td>\n",
       "      <td>360.0</td>\n",
       "      <td>1.0</td>\n",
       "      <td>2</td>\n",
       "      <td>1</td>\n",
       "    </tr>\n",
       "    <tr>\n",
       "      <td>2</td>\n",
       "      <td>1</td>\n",
       "      <td>1</td>\n",
       "      <td>0</td>\n",
       "      <td>1</td>\n",
       "      <td>0</td>\n",
       "      <td>2583</td>\n",
       "      <td>2358.0</td>\n",
       "      <td>120.0</td>\n",
       "      <td>360.0</td>\n",
       "      <td>1.0</td>\n",
       "      <td>2</td>\n",
       "      <td>1</td>\n",
       "    </tr>\n",
       "    <tr>\n",
       "      <td>3</td>\n",
       "      <td>1</td>\n",
       "      <td>0</td>\n",
       "      <td>0</td>\n",
       "      <td>0</td>\n",
       "      <td>0</td>\n",
       "      <td>6000</td>\n",
       "      <td>0.0</td>\n",
       "      <td>141.0</td>\n",
       "      <td>360.0</td>\n",
       "      <td>1.0</td>\n",
       "      <td>2</td>\n",
       "      <td>1</td>\n",
       "    </tr>\n",
       "    <tr>\n",
       "      <td>4</td>\n",
       "      <td>1</td>\n",
       "      <td>1</td>\n",
       "      <td>0</td>\n",
       "      <td>1</td>\n",
       "      <td>0</td>\n",
       "      <td>2333</td>\n",
       "      <td>1516.0</td>\n",
       "      <td>95.0</td>\n",
       "      <td>360.0</td>\n",
       "      <td>1.0</td>\n",
       "      <td>2</td>\n",
       "      <td>1</td>\n",
       "    </tr>\n",
       "  </tbody>\n",
       "</table>\n",
       "</div>"
      ],
      "text/plain": [
       "   Gender  Married Dependents  Education  Self_Employed  ApplicantIncome  \\\n",
       "0       1        1          1          0              0             4583   \n",
       "1       1        1          0          0              1             3000   \n",
       "2       1        1          0          1              0             2583   \n",
       "3       1        0          0          0              0             6000   \n",
       "4       1        1          0          1              0             2333   \n",
       "\n",
       "   CoapplicantIncome  LoanAmount  Loan_Amount_Term  Credit_History  \\\n",
       "0             1508.0       128.0             360.0             1.0   \n",
       "1                0.0        66.0             360.0             1.0   \n",
       "2             2358.0       120.0             360.0             1.0   \n",
       "3                0.0       141.0             360.0             1.0   \n",
       "4             1516.0        95.0             360.0             1.0   \n",
       "\n",
       "   Property_Area  Loan_Status  \n",
       "0              0            0  \n",
       "1              2            1  \n",
       "2              2            1  \n",
       "3              2            1  \n",
       "4              2            1  "
      ]
     },
     "execution_count": 12,
     "metadata": {},
     "output_type": "execute_result"
    }
   ],
   "source": [
    "label_encoder = preprocessing.LabelEncoder() \n",
    "loan_copy['Gender']= label_encoder.fit_transform(loan_copy['Gender']) \n",
    "loan_copy['Property_Area']= label_encoder.fit_transform(loan_copy['Property_Area']) \n",
    "loan_copy['Married']= label_encoder.fit_transform(loan_copy['Married']) \n",
    "loan_copy['Self_Employed']= label_encoder.fit_transform(loan_copy['Self_Employed']) \n",
    "loan_copy['Education']= label_encoder.fit_transform(loan_copy['Education']) \n",
    "loan_copy['Loan_Status']= label_encoder.fit_transform(loan_copy['Loan_Status']) \n",
    "loan_copy.head()\n"
   ]
  },
  {
   "cell_type": "markdown",
   "metadata": {},
   "source": [
    "We assume that columns containing fewer than 10 unique values are suitable for classification as categorical data. "
   ]
  },
  {
   "cell_type": "code",
   "execution_count": 13,
   "metadata": {},
   "outputs": [
    {
     "data": {
      "text/plain": [
       "(302, 9)"
      ]
     },
     "execution_count": 13,
     "metadata": {},
     "output_type": "execute_result"
    }
   ],
   "source": [
    "columns_less_than_10_unique = []\n",
    "for column in loan_copy.columns:\n",
    "    # Count the number of unique values in the column\n",
    "    num_unique_values = loan_copy[column].nunique()\n",
    "    # If the number of unique values is less than 10, add the column name to the list\n",
    "    if num_unique_values < 10:\n",
    "        columns_less_than_10_unique.append(column)\n",
    "\n",
    "# Create a new DataFrame with only the columns having less than 10 unique values\n",
    "categorical_variables = loan_copy[columns_less_than_10_unique]\n",
    "categorical_variables.shape"
   ]
  },
  {
   "cell_type": "markdown",
   "metadata": {},
   "source": [
    "The first test employs the χ-squared test to evaluate the relationship between categorical independent variables and each categorical dependent variable. The function iterates through all independent categorical variables and assesses their significance with the dependent variable.\n",
    "\n",
    "Assumptions for χ-squared test:\n",
    "- Mutually Exclusive Categories.\n",
    "- Categorical Variables.\n",
    "\n",
    "These assumptions are satisfied.\n",
    "\n",
    "The hypotheses for this test are:\n",
    "- H0: There is no association between the independent variable and the dependent variable.\n",
    "- H1: There is association between the independent variable and the dependent variable.\n",
    "\n",
    "The tests are conducted with a significance level of 10%.\n",
    "\n",
    "The independent variables where the null hypothesis is accepted are appended to the rejected variables, indicating variables that do not significantly affect the dependent variable."
   ]
  },
  {
   "cell_type": "code",
   "execution_count": 14,
   "metadata": {},
   "outputs": [
    {
     "name": "stdout",
     "output_type": "stream",
     "text": [
      "0.17362003420311029\n",
      "0.07192935921453798\n",
      "0.9087283231751075\n",
      "0.4991994053438499\n",
      "0.44320292928007443\n",
      "0.06900157101275281\n",
      "2.371618226204196e-24\n",
      "0.0030291512013767286\n"
     ]
    },
    {
     "data": {
      "text/plain": [
       "['Gender', 'Dependents', 'Education', 'Self_Employed']"
      ]
     },
     "execution_count": 14,
     "metadata": {},
     "output_type": "execute_result"
    }
   ],
   "source": [
    "def Chi_squared_test(var):\n",
    "    rejected = []\n",
    "    for column in var.columns:\n",
    "        if column == \"Loan_Status\":\n",
    "            continue\n",
    "        df_chi = pd.crosstab(var[column], var[\"Loan_Status\"])\n",
    "        (chi2, p_value, dof, expected) = chi2_contingency(df_chi)\n",
    "        alpha = 0.1\n",
    "        if p_value > alpha:\n",
    "            rejected.append(column)\n",
    "        print(p_value)\n",
    "    return rejected\n",
    "\n",
    "rejected_variables = Chi_squared_test(categorical_variables)\n",
    "rejected_variables"
   ]
  },
  {
   "cell_type": "markdown",
   "metadata": {},
   "source": [
    "A similar method is employed to get a list of the numerical varibles "
   ]
  },
  {
   "cell_type": "code",
   "execution_count": 15,
   "metadata": {},
   "outputs": [
    {
     "data": {
      "text/plain": [
       "(302, 3)"
      ]
     },
     "execution_count": 15,
     "metadata": {},
     "output_type": "execute_result"
    }
   ],
   "source": [
    "columns_greater_than_10_unique = []\n",
    "for column in loan_copy.columns:\n",
    "    # Count the number of unique values in the column\n",
    "    num_unique_values = loan_copy[column].nunique()\n",
    "    # If the number of unique values is less than 10, add the column name to the list\n",
    "    if num_unique_values > 10:\n",
    "        columns_greater_than_10_unique.append(column)\n",
    "\n",
    "# Create a new DataFrame with only the columns having less than 10 unique values\n",
    "numerical_variables = loan_copy[columns_greater_than_10_unique]\n",
    "numerical_variables.shape"
   ]
  },
  {
   "cell_type": "markdown",
   "metadata": {},
   "source": [
    "The numerical independent variables are standardised to assess their adherence to a normal distribution. This process helps determine if the variables exhibit a normal distribution pattern. If they do, parametric tests can be applied to examine the significance with the dependent variable."
   ]
  },
  {
   "cell_type": "code",
   "execution_count": 16,
   "metadata": {},
   "outputs": [],
   "source": [
    "scaler = StandardScaler()\n",
    "scaled_numerical_cols = scaler.fit_transform(numerical_variables)\n",
    "numerical_variables = pd.DataFrame(scaled_numerical_cols, columns=numerical_variables.columns)"
   ]
  },
  {
   "cell_type": "markdown",
   "metadata": {},
   "source": [
    "The graphical representation suggests that the applicant's income distribution approximates a normal distribution, while the other two variables appear less normally distributed. However, a statistical test should be conducted to assess significance more rigorously."
   ]
  },
  {
   "cell_type": "code",
   "execution_count": 17,
   "metadata": {
    "scrolled": true
   },
   "outputs": [
    {
     "data": {
      "text/plain": [
       "<matplotlib.axes._subplots.AxesSubplot at 0x1a9b23bfe88>"
      ]
     },
     "execution_count": 17,
     "metadata": {},
     "output_type": "execute_result"
    },
    {
     "data": {
      "image/png": "[encoded data removed]",
      "text/plain": [
       "<Figure size 432x288 with 1 Axes>"
      ]
     },
     "metadata": {
      "needs_background": "light"
     },
     "output_type": "display_data"
    }
   ],
   "source": [
    "sns.distplot(numerical_variables[\"ApplicantIncome\"])"
   ]
  },
  {
   "cell_type": "code",
   "execution_count": 18,
   "metadata": {},
   "outputs": [
    {
     "data": {
      "text/plain": [
       "<matplotlib.axes._subplots.AxesSubplot at 0x1a9b2703548>"
      ]
     },
     "execution_count": 18,
     "metadata": {},
     "output_type": "execute_result"
    },
    {
     "data": {
      "image/png": "[encoded data removed]",
      "text/plain": [
       "<Figure size 432x288 with 1 Axes>"
      ]
     },
     "metadata": {
      "needs_background": "light"
     },
     "output_type": "display_data"
    }
   ],
   "source": [
    "sns.distplot(numerical_variables[\"CoapplicantIncome\"])"
   ]
  },
  {
   "cell_type": "code",
   "execution_count": 19,
   "metadata": {},
   "outputs": [
    {
     "data": {
      "text/plain": [
       "<matplotlib.axes._subplots.AxesSubplot at 0x1a9b27aa408>"
      ]
     },
     "execution_count": 19,
     "metadata": {},
     "output_type": "execute_result"
    },
    {
     "data": {
      "image/png": "[encoded data removed]",
      "text/plain": [
       "<Figure size 432x288 with 1 Axes>"
      ]
     },
     "metadata": {
      "needs_background": "light"
     },
     "output_type": "display_data"
    }
   ],
   "source": [
    "sns.distplot(numerical_variables[\"LoanAmount\"])"
   ]
  },
  {
   "cell_type": "markdown",
   "metadata": {},
   "source": [
    "A statistical test is conducted to assess if the numerical dependent variables approximate a normal distribution. The Kolmogorov-Smirnov test or Shapiro-Wilks test are suitable for this purpose, but the Shapiro-Wilks test is limited to samples of less than 50. Therefore, the Kolmogorov-Smirnov test is employed.\n",
    "\n",
    "There are no assumptions made about the data in a Kolmogorov-Smirnov test.\n",
    "\n",
    "\n",
    "The hypotheses for this test are:\n",
    "- H0: The independent variable is normally distributed.\n",
    "- H1: The independent variable is not normally distributed.\n",
    "\n",
    "The tests are conducted with a significance level of 5%."
   ]
  },
  {
   "cell_type": "code",
   "execution_count": 20,
   "metadata": {},
   "outputs": [
    {
     "name": "stdout",
     "output_type": "stream",
     "text": [
      "0.03564210861163677\n",
      "5.966306698779367e-19\n",
      "0.002847953925809641\n"
     ]
    },
    {
     "data": {
      "text/plain": [
       "[]"
      ]
     },
     "execution_count": 20,
     "metadata": {},
     "output_type": "execute_result"
    }
   ],
   "source": [
    "def kolmogrov_smirnov_test(var):\n",
    "    normal = []\n",
    "    for column in var.columns:\n",
    "        (KSstats, p_value) = kstest(var[column], \"norm\")\n",
    "        alpha = 0.05\n",
    "        if alpha <= p_value:\n",
    "            normal.append(column)\n",
    "        print(p_value)\n",
    "    return normal\n",
    "normal_variables = kolmogrov_smirnov_test(numerical_variables)\n",
    "normal_variables"
   ]
  },
  {
   "cell_type": "markdown",
   "metadata": {},
   "source": [
    "From the test results, we conclude that none of the variables are significantly normally distributed. Although the applicant income is 3.6% significant, the test threshold is set at 5%. Consequently, the null hypothesis is rejected for all numerical variables.\n",
    "\n",
    "Assumptions for the Mann-Whitney U test:\n",
    "- Independence within the samples and mutual independence, meaning each observation is exclusively in one group. \n",
    "- The sample drawn from the population is assumed to be random.\n",
    "\n",
    "To assess the dependency between the independent and dependent variables, a non-parametric test is required. Given that the dependent variable is binary (yes or no), the Mann-Whitney U test (Wilcoxon summed rank test) is suitable.\n",
    "\n",
    "The hypotheses for this test are:\n",
    "- H0: There is no association between the independent variable and the dependent variable.\n",
    "- H1: There is association between the independent variable and the dependent variable.\n",
    "\n",
    "The tests are conducted with a significance level of 10%."
   ]
  },
  {
   "cell_type": "code",
   "execution_count": 21,
   "metadata": {},
   "outputs": [
    {
     "name": "stdout",
     "output_type": "stream",
     "text": [
      "0.37030852788582236\n",
      "0.017139181720339715\n",
      "0.1020711857109105\n"
     ]
    },
    {
     "data": {
      "text/plain": [
       "['ApplicantIncome', 'LoanAmount']"
      ]
     },
     "execution_count": 21,
     "metadata": {},
     "output_type": "execute_result"
    }
   ],
   "source": [
    "def Mann_Whitney_U_test (var, target):\n",
    "    rejected = []\n",
    "    for column in var.columns:\n",
    "        grouped_data = [var[column][target.reset_index(drop=True) == category] for category in target.unique()]\n",
    "        U_statistic, p_value = mannwhitneyu(*grouped_data)\n",
    "        alpha = 0.1\n",
    "        if p_value >= alpha:\n",
    "            rejected.append(column)\n",
    "        print(p_value)\n",
    "    return rejected\n",
    "rejected_variables2 = Mann_Whitney_U_test(numerical_variables, loan_copy[\"Loan_Status\"])\n",
    "rejected_variables = rejected_variables+rejected_variables2\n",
    "rejected_variables2"
   ]
  },
  {
   "cell_type": "markdown",
   "metadata": {},
   "source": [
    "The count of variables that do not significantly affect the dependent variable is stored in the list of rejected variables."
   ]
  },
  {
   "cell_type": "code",
   "execution_count": 22,
   "metadata": {},
   "outputs": [
    {
     "data": {
      "text/plain": [
       "['Gender',\n",
       " 'Dependents',\n",
       " 'Education',\n",
       " 'Self_Employed',\n",
       " 'ApplicantIncome',\n",
       " 'LoanAmount']"
      ]
     },
     "execution_count": 22,
     "metadata": {},
     "output_type": "execute_result"
    }
   ],
   "source": [
    "rejected_variables"
   ]
  },
  {
   "cell_type": "markdown",
   "metadata": {},
   "source": [
    "The rejected variables are removed from the actual data frame loan."
   ]
  },
  {
   "cell_type": "code",
   "execution_count": 23,
   "metadata": {},
   "outputs": [
    {
     "data": {
      "text/html": [
       "<div>\n",
       "<style scoped>\n",
       "    .dataframe tbody tr th:only-of-type {\n",
       "        vertical-align: middle;\n",
       "    }\n",
       "\n",
       "    .dataframe tbody tr th {\n",
       "        vertical-align: top;\n",
       "    }\n",
       "\n",
       "    .dataframe thead th {\n",
       "        text-align: right;\n",
       "    }\n",
       "</style>\n",
       "<table border=\"1\" class=\"dataframe\">\n",
       "  <thead>\n",
       "    <tr style=\"text-align: right;\">\n",
       "      <th></th>\n",
       "      <th>Married</th>\n",
       "      <th>CoapplicantIncome</th>\n",
       "      <th>Loan_Amount_Term</th>\n",
       "      <th>Credit_History</th>\n",
       "      <th>Property_Area</th>\n",
       "      <th>Loan_Status</th>\n",
       "    </tr>\n",
       "  </thead>\n",
       "  <tbody>\n",
       "    <tr>\n",
       "      <td>0</td>\n",
       "      <td>Yes</td>\n",
       "      <td>1508.0</td>\n",
       "      <td>360.0</td>\n",
       "      <td>1.0</td>\n",
       "      <td>Rural</td>\n",
       "      <td>N</td>\n",
       "    </tr>\n",
       "    <tr>\n",
       "      <td>1</td>\n",
       "      <td>Yes</td>\n",
       "      <td>0.0</td>\n",
       "      <td>360.0</td>\n",
       "      <td>1.0</td>\n",
       "      <td>Urban</td>\n",
       "      <td>Y</td>\n",
       "    </tr>\n",
       "    <tr>\n",
       "      <td>2</td>\n",
       "      <td>Yes</td>\n",
       "      <td>2358.0</td>\n",
       "      <td>360.0</td>\n",
       "      <td>1.0</td>\n",
       "      <td>Urban</td>\n",
       "      <td>Y</td>\n",
       "    </tr>\n",
       "    <tr>\n",
       "      <td>3</td>\n",
       "      <td>No</td>\n",
       "      <td>0.0</td>\n",
       "      <td>360.0</td>\n",
       "      <td>1.0</td>\n",
       "      <td>Urban</td>\n",
       "      <td>Y</td>\n",
       "    </tr>\n",
       "    <tr>\n",
       "      <td>4</td>\n",
       "      <td>Yes</td>\n",
       "      <td>1516.0</td>\n",
       "      <td>360.0</td>\n",
       "      <td>1.0</td>\n",
       "      <td>Urban</td>\n",
       "      <td>Y</td>\n",
       "    </tr>\n",
       "    <tr>\n",
       "      <td>...</td>\n",
       "      <td>...</td>\n",
       "      <td>...</td>\n",
       "      <td>...</td>\n",
       "      <td>...</td>\n",
       "      <td>...</td>\n",
       "      <td>...</td>\n",
       "    </tr>\n",
       "    <tr>\n",
       "      <td>376</td>\n",
       "      <td>Yes</td>\n",
       "      <td>0.0</td>\n",
       "      <td>360.0</td>\n",
       "      <td>1.0</td>\n",
       "      <td>Urban</td>\n",
       "      <td>Y</td>\n",
       "    </tr>\n",
       "    <tr>\n",
       "      <td>377</td>\n",
       "      <td>Yes</td>\n",
       "      <td>1950.0</td>\n",
       "      <td>360.0</td>\n",
       "      <td>1.0</td>\n",
       "      <td>Rural</td>\n",
       "      <td>Y</td>\n",
       "    </tr>\n",
       "    <tr>\n",
       "      <td>378</td>\n",
       "      <td>No</td>\n",
       "      <td>0.0</td>\n",
       "      <td>360.0</td>\n",
       "      <td>1.0</td>\n",
       "      <td>Rural</td>\n",
       "      <td>Y</td>\n",
       "    </tr>\n",
       "    <tr>\n",
       "      <td>379</td>\n",
       "      <td>Yes</td>\n",
       "      <td>0.0</td>\n",
       "      <td>180.0</td>\n",
       "      <td>1.0</td>\n",
       "      <td>Rural</td>\n",
       "      <td>Y</td>\n",
       "    </tr>\n",
       "    <tr>\n",
       "      <td>380</td>\n",
       "      <td>No</td>\n",
       "      <td>0.0</td>\n",
       "      <td>360.0</td>\n",
       "      <td>0.0</td>\n",
       "      <td>Semiurban</td>\n",
       "      <td>N</td>\n",
       "    </tr>\n",
       "  </tbody>\n",
       "</table>\n",
       "<p>374 rows × 6 columns</p>\n",
       "</div>"
      ],
      "text/plain": [
       "    Married  CoapplicantIncome  Loan_Amount_Term  Credit_History  \\\n",
       "0       Yes             1508.0             360.0             1.0   \n",
       "1       Yes                0.0             360.0             1.0   \n",
       "2       Yes             2358.0             360.0             1.0   \n",
       "3        No                0.0             360.0             1.0   \n",
       "4       Yes             1516.0             360.0             1.0   \n",
       "..      ...                ...               ...             ...   \n",
       "376     Yes                0.0             360.0             1.0   \n",
       "377     Yes             1950.0             360.0             1.0   \n",
       "378      No                0.0             360.0             1.0   \n",
       "379     Yes                0.0             180.0             1.0   \n",
       "380      No                0.0             360.0             0.0   \n",
       "\n",
       "    Property_Area Loan_Status  \n",
       "0           Rural           N  \n",
       "1           Urban           Y  \n",
       "2           Urban           Y  \n",
       "3           Urban           Y  \n",
       "4           Urban           Y  \n",
       "..            ...         ...  \n",
       "376         Urban           Y  \n",
       "377         Rural           Y  \n",
       "378         Rural           Y  \n",
       "379         Rural           Y  \n",
       "380     Semiurban           N  \n",
       "\n",
       "[374 rows x 6 columns]"
      ]
     },
     "execution_count": 23,
     "metadata": {},
     "output_type": "execute_result"
    }
   ],
   "source": [
    "for column in rejected_variables:\n",
    "    if column in loan.columns:\n",
    "        loan.drop(column, axis=1, inplace=True)\n",
    "loan"
   ]
  },
  {
   "cell_type": "markdown",
   "metadata": {},
   "source": [
    "# 3. Impact Visualisation"
   ]
  },
  {
   "cell_type": "markdown",
   "metadata": {},
   "source": [
    "The dataset comprises 5 independent variables denoted by X stored as a matrix, while the dependent variable is stored as y. No preprocessing is required for y except label encoding to convert the categorical values into numerical ones. "
   ]
  },
  {
   "cell_type": "code",
   "execution_count": 24,
   "metadata": {},
   "outputs": [],
   "source": [
    "X = loan.iloc[:,:-1]\n",
    "y = loan.iloc[:,-1]"
   ]
  },
  {
   "cell_type": "code",
   "execution_count": 25,
   "metadata": {},
   "outputs": [],
   "source": [
    "y = label_encoder.fit_transform(y)"
   ]
  },
  {
   "cell_type": "code",
   "execution_count": 26,
   "metadata": {},
   "outputs": [
    {
     "data": {
      "image/png": "[encoded data removed]",
      "text/plain": [
       "<Figure size 432x288 with 1 Axes>"
      ]
     },
     "metadata": {},
     "output_type": "display_data"
    }
   ],
   "source": [
    "df_1 = pd.crosstab(loan['Married'], loan['Loan_Status'])\n",
    "sns.set(style=\"whitegrid\")\n",
    "df_1.plot(kind='bar', stacked=True, color=['green', 'red'])\n",
    "# Adding labels and title\n",
    "plt.xlabel('Married')\n",
    "plt.ylabel('number of people')\n",
    "plt.title('Marriage vs Loan Approval Status')\n",
    "\n",
    "# Display the plot\n",
    "plt.show()"
   ]
  },
  {
   "cell_type": "markdown",
   "metadata": {},
   "source": [
    "The stacked bar chart above reveals that the proportion of loans being accepted, given that applicants are married, is greater than the proportion of loans being accepted when applicants are not married. This can be expressed mathematically as:\n",
    "\n",
    "P(Loan accepted | Married) > P(Loan accepted | Not Married).\n",
    "\n",
    "The graph indicates a dependency between the loan status and marital status variables."
   ]
  },
  {
   "cell_type": "code",
   "execution_count": 27,
   "metadata": {},
   "outputs": [
    {
     "data": {
      "image/png": "[encoded data removed]",
      "text/plain": [
       "<Figure size 432x288 with 1 Axes>"
      ]
     },
     "metadata": {},
     "output_type": "display_data"
    }
   ],
   "source": [
    "df_1 = pd.crosstab(loan['Property_Area'], loan['Loan_Status'])\n",
    "sns.set(style=\"whitegrid\")\n",
    "df_1.plot(kind='bar', color=['blue', 'orange'], width=0.4)  # Adjust the width as needed\n",
    "# Adding labels and title\n",
    "plt.xlabel('Property_Area')\n",
    "plt.ylabel('number of people')\n",
    "plt.title('Property_Area vs Loan Approval Status')\n",
    "\n",
    "# Display the plot\n",
    "plt.show()"
   ]
  },
  {
   "cell_type": "markdown",
   "metadata": {},
   "source": [
    "The dual bar chart above suggests a relationship where individuals residing in semi-urban areas have a higher rate of loan acceptance compared to those living in other areas. Furthermore, fewer individuals in semi-urban areas appear to have their loan applications rejected."
   ]
  },
  {
   "cell_type": "code",
   "execution_count": 28,
   "metadata": {},
   "outputs": [
    {
     "data": {
      "image/png": "[encoded data removed]",
      "text/plain": [
       "<Figure size 432x288 with 1 Axes>"
      ]
     },
     "metadata": {},
     "output_type": "display_data"
    }
   ],
   "source": [
    "df_1 = pd.crosstab(loan['Loan_Amount_Term'], loan['Loan_Status'])\n",
    "df_1['Percentage of yes'] = 100*df_1['Y']/(df_1['Y']+df_1['N'])\n",
    "df_1['Percentage of no'] = 100 - df_1['Percentage of yes']\n",
    "plt.plot(df_1.index, df_1['Percentage of yes'], marker='o', color='green', label='Percentage of Yes')\n",
    "plt.plot(df_1.index, df_1['Percentage of no'], marker='o', color='red', label='Percentage of No')\n",
    "\n",
    "# Add labels and title\n",
    "plt.xlabel('Loan Amount Term')\n",
    "plt.ylabel('Percentage')\n",
    "plt.title('Percentage of Yes and No by Loan Amount Term')\n",
    "plt.xticks(rotation=90)  # Rotate x-axis labels for better readability\n",
    "plt.legend()  # Show legend\n",
    "plt.grid(True)  # Show grid\n",
    "plt.tight_layout()  # Adjust layout\n",
    "plt.show()"
   ]
  },
  {
   "cell_type": "markdown",
   "metadata": {},
   "source": [
    "The acceptance rate for each loan amount appears to fluctuate stochastically. However, observing the general trend through moving averages, it's evident that the acceptance rate tends to decrease as the loan amount term increases."
   ]
  },
  {
   "cell_type": "code",
   "execution_count": 29,
   "metadata": {},
   "outputs": [
    {
     "data": {
      "text/html": [
       "<div>\n",
       "<style scoped>\n",
       "    .dataframe tbody tr th:only-of-type {\n",
       "        vertical-align: middle;\n",
       "    }\n",
       "\n",
       "    .dataframe tbody tr th {\n",
       "        vertical-align: top;\n",
       "    }\n",
       "\n",
       "    .dataframe thead th {\n",
       "        text-align: right;\n",
       "    }\n",
       "</style>\n",
       "<table border=\"1\" class=\"dataframe\">\n",
       "  <thead>\n",
       "    <tr style=\"text-align: right;\">\n",
       "      <th></th>\n",
       "      <th>CoapplicantIncome</th>\n",
       "      <th>Loan_Amount_Term</th>\n",
       "      <th>Credit_History</th>\n",
       "    </tr>\n",
       "  </thead>\n",
       "  <tbody>\n",
       "    <tr>\n",
       "      <td>count</td>\n",
       "      <td>374.000000</td>\n",
       "      <td>363.000000</td>\n",
       "      <td>345.000000</td>\n",
       "    </tr>\n",
       "    <tr>\n",
       "      <td>mean</td>\n",
       "      <td>1149.593369</td>\n",
       "      <td>343.669421</td>\n",
       "      <td>0.834783</td>\n",
       "    </tr>\n",
       "    <tr>\n",
       "      <td>std</td>\n",
       "      <td>1326.557596</td>\n",
       "      <td>62.721879</td>\n",
       "      <td>0.371916</td>\n",
       "    </tr>\n",
       "    <tr>\n",
       "      <td>min</td>\n",
       "      <td>0.000000</td>\n",
       "      <td>84.000000</td>\n",
       "      <td>0.000000</td>\n",
       "    </tr>\n",
       "    <tr>\n",
       "      <td>25%</td>\n",
       "      <td>0.000000</td>\n",
       "      <td>360.000000</td>\n",
       "      <td>1.000000</td>\n",
       "    </tr>\n",
       "    <tr>\n",
       "      <td>50%</td>\n",
       "      <td>984.399994</td>\n",
       "      <td>360.000000</td>\n",
       "      <td>1.000000</td>\n",
       "    </tr>\n",
       "    <tr>\n",
       "      <td>75%</td>\n",
       "      <td>2000.000000</td>\n",
       "      <td>360.000000</td>\n",
       "      <td>1.000000</td>\n",
       "    </tr>\n",
       "    <tr>\n",
       "      <td>max</td>\n",
       "      <td>8980.000000</td>\n",
       "      <td>480.000000</td>\n",
       "      <td>1.000000</td>\n",
       "    </tr>\n",
       "  </tbody>\n",
       "</table>\n",
       "</div>"
      ],
      "text/plain": [
       "       CoapplicantIncome  Loan_Amount_Term  Credit_History\n",
       "count         374.000000        363.000000      345.000000\n",
       "mean         1149.593369        343.669421        0.834783\n",
       "std          1326.557596         62.721879        0.371916\n",
       "min             0.000000         84.000000        0.000000\n",
       "25%             0.000000        360.000000        1.000000\n",
       "50%           984.399994        360.000000        1.000000\n",
       "75%          2000.000000        360.000000        1.000000\n",
       "max          8980.000000        480.000000        1.000000"
      ]
     },
     "execution_count": 29,
     "metadata": {},
     "output_type": "execute_result"
    }
   ],
   "source": [
    "loan.describe()"
   ]
  },
  {
   "cell_type": "markdown",
   "metadata": {},
   "source": [
    "The loan amount term and credit history appear to be within reasonable ranges based on the statistics. However, regarding coapplicant income, there are notable outliers. The difference between the median and the maximum value is approximately 8000, while the difference between the median and the minimum value is only about 1000. Therefore, the IQR method is employed to remove outliers from this column."
   ]
  },
  {
   "cell_type": "code",
   "execution_count": 30,
   "metadata": {},
   "outputs": [
    {
     "name": "stdout",
     "output_type": "stream",
     "text": [
      "Shape of cleaned DataFrame: (370, 6)\n"
     ]
    }
   ],
   "source": [
    "# Calculate Q1 (25th percentile) and Q3 (75th percentile) of the column\n",
    "Q1 = loan['CoapplicantIncome'].quantile(0.25)\n",
    "Q3 = loan['CoapplicantIncome'].quantile(0.75)\n",
    "\n",
    "# Calculate IQR (Interquartile Range)\n",
    "IQR = Q3 - Q1\n",
    "\n",
    "# Define the lower and upper bounds\n",
    "lower_bound = Q1 - 1.5 * IQR\n",
    "upper_bound = Q3 + 1.5 * IQR\n",
    "\n",
    "# Filter rows based on the bounds\n",
    "loan = loan[(loan['CoapplicantIncome'] >= lower_bound) & (loan['CoapplicantIncome'] <= upper_bound)]\n",
    "\n",
    "print(\"Shape of cleaned DataFrame:\", loan.shape)\n",
    "\n"
   ]
  },
  {
   "cell_type": "code",
   "execution_count": 31,
   "metadata": {},
   "outputs": [
    {
     "data": {
      "image/png": "[encoded data removed]",
      "text/plain": [
       "<Figure size 576x432 with 1 Axes>"
      ]
     },
     "metadata": {},
     "output_type": "display_data"
    }
   ],
   "source": [
    "# Group data by 'Loan_Status' and calculate the mean 'CoapplicantIncome' for each group\n",
    "grouped_data = loan.groupby('Loan_Status')['CoapplicantIncome'].mean().reset_index()\n",
    "\n",
    "# Plot the bar plot\n",
    "plt.figure(figsize=(8, 6))\n",
    "sns.barplot(data=grouped_data, x='Loan_Status', y='CoapplicantIncome', ci=None)\n",
    "plt.title('Mean coapplicant income by Loan Status')\n",
    "plt.xlabel('Loan Status')\n",
    "plt.ylabel('Mean coapplicant income')\n",
    "plt.show()"
   ]
  },
  {
   "cell_type": "markdown",
   "metadata": {},
   "source": [
    "The bar chart illustrates the mean applicant's salary in relation to the loan status. It indicates that the higher the mean salary of the coapplicant, the greater the likelihood of the loan being accepted. This suggests a positive correlation between coapplicant income and loan acceptance."
   ]
  },
  {
   "cell_type": "code",
   "execution_count": 32,
   "metadata": {},
   "outputs": [
    {
     "data": {
      "text/html": [
       "<div>\n",
       "<style scoped>\n",
       "    .dataframe tbody tr th:only-of-type {\n",
       "        vertical-align: middle;\n",
       "    }\n",
       "\n",
       "    .dataframe tbody tr th {\n",
       "        vertical-align: top;\n",
       "    }\n",
       "\n",
       "    .dataframe thead th {\n",
       "        text-align: right;\n",
       "    }\n",
       "</style>\n",
       "<table border=\"1\" class=\"dataframe\">\n",
       "  <thead>\n",
       "    <tr style=\"text-align: right;\">\n",
       "      <th>Loan_Status</th>\n",
       "      <th>N</th>\n",
       "      <th>Y</th>\n",
       "    </tr>\n",
       "    <tr>\n",
       "      <th>Credit_History</th>\n",
       "      <th></th>\n",
       "      <th></th>\n",
       "    </tr>\n",
       "  </thead>\n",
       "  <tbody>\n",
       "    <tr>\n",
       "      <td>0.0</td>\n",
       "      <td>54</td>\n",
       "      <td>2</td>\n",
       "    </tr>\n",
       "    <tr>\n",
       "      <td>1.0</td>\n",
       "      <td>49</td>\n",
       "      <td>238</td>\n",
       "    </tr>\n",
       "  </tbody>\n",
       "</table>\n",
       "</div>"
      ],
      "text/plain": [
       "Loan_Status      N    Y\n",
       "Credit_History         \n",
       "0.0             54    2\n",
       "1.0             49  238"
      ]
     },
     "execution_count": 32,
     "metadata": {},
     "output_type": "execute_result"
    }
   ],
   "source": [
    "df_1 = pd.crosstab(loan['Credit_History'], loan['Loan_Status'])\n",
    "df_1"
   ]
  },
  {
   "cell_type": "markdown",
   "metadata": {},
   "source": [
    "The table above demonstrates that nearly all individuals with a credit history of 0 were rejected for the loan. This highlights the pivotal role of credit history in the acceptance of loan applications, indicating that a positive credit history significantly influences the likelihood of loan approval."
   ]
  },
  {
   "cell_type": "markdown",
   "metadata": {},
   "source": [
    "# 4. Machine Learning Classification"
   ]
  },
  {
   "cell_type": "markdown",
   "metadata": {},
   "source": [
    "The preprocessing will be conducted through a pipeline, distinguishing between numerical and categorical data. This segregation allows for distinct preprocessing steps tailored to each data type."
   ]
  },
  {
   "cell_type": "code",
   "execution_count": 33,
   "metadata": {},
   "outputs": [],
   "source": [
    "numerical_columns = X.select_dtypes(include=[np.number]).columns\n",
    "categorical_columns = X.select_dtypes(include=[object]).columns"
   ]
  },
  {
   "cell_type": "markdown",
   "metadata": {},
   "source": [
    "The pipeline for numerical variables involves two stages: first, imputing the mean of the columns into the null values, followed by scaling the data."
   ]
  },
  {
   "cell_type": "code",
   "execution_count": 34,
   "metadata": {},
   "outputs": [],
   "source": [
    "numerical_transformation = Pipeline(steps=[\n",
    "    (\"imputer\", SimpleImputer(strategy=\"mean\")),\n",
    "    (\"scaler\", scaler)\n",
    "])"
   ]
  },
  {
   "cell_type": "markdown",
   "metadata": {},
   "source": [
    "The categorical data pipeline comprises two stages: firstly, imputing the mode (most common) value into the null values. Then, Onehot encoding is applied to change the data type to integers. Unlike Label encoding, Onehot encoding ensures that each category in each column gets its own category, preventing classifiers from considering relationships such as 1 < 2 < 3."
   ]
  },
  {
   "cell_type": "code",
   "execution_count": 35,
   "metadata": {},
   "outputs": [],
   "source": [
    "categorical_transformation = Pipeline(steps=[\n",
    "    (\"imputer\", SimpleImputer(strategy=\"most_frequent\")),\n",
    "    (\"onehot\", OneHotEncoder(handle_unknown=\"ignore\"))\n",
    "])"
   ]
  },
  {
   "cell_type": "markdown",
   "metadata": {},
   "source": [
    "The column transformer now consolidates both pipeline stages and integrates the preprocessing stage, allowing for a unified approach to data transformation."
   ]
  },
  {
   "cell_type": "code",
   "execution_count": 36,
   "metadata": {},
   "outputs": [],
   "source": [
    "preprocessor = ColumnTransformer(transformers=[\n",
    "    (\"num\", numerical_transformation, numerical_columns),\n",
    "    (\"cat\", categorical_transformation, categorical_columns)\n",
    "])"
   ]
  },
  {
   "cell_type": "markdown",
   "metadata": {},
   "source": [
    "The seven different models are chosen for classification. The number of nearest neighbor points to be considered for the KNN classifier is indicated by K, a typical metric is the nearest even number to the square root of the number of samples."
   ]
  },
  {
   "cell_type": "markdown",
   "metadata": {},
   "source": [
    "Truncated Singular Value Decomposition (SVD) is initiated to perform dimensionality reduction. It helps in compressing data by reducing the number of features. Truncated SVD is performed by first decomposing the original data matrix into three matrices: U, Σ, and V^T, where U represents the left singular vectors, Σ is a diagonal matrix containing singular values, and V^T contains the right singular vectors. Then, the matrices are truncated by selecting only the top k singular values and their corresponding singular vectors, where k is the desired number of dimensions for the reduced space. This process effectively retains the most significant information while discarding less important components, leading to dimensionality reduction."
   ]
  },
  {
   "cell_type": "code",
   "execution_count": 37,
   "metadata": {},
   "outputs": [],
   "source": [
    "svd = TruncatedSVD(n_components=3)"
   ]
  },
  {
   "cell_type": "code",
   "execution_count": 38,
   "metadata": {},
   "outputs": [],
   "source": [
    "number_of_rows = len(loan)\n",
    "val = round(math.sqrt(number_of_rows))\n",
    "if val%2 == 0:\n",
    "    K = val\n",
    "else:\n",
    "    K = val-1\n",
    "model_1 = KNeighborsClassifier()\n",
    "model_2 = svm.SVC()\n",
    "model_3 = LogisticRegression()\n",
    "model_4 = DecisionTreeClassifier()\n",
    "model_5 = GaussianNB()\n",
    "model_6 = RandomForestClassifier()\n",
    "model_7 = XGBClassifier()"
   ]
  },
  {
   "cell_type": "markdown",
   "metadata": {},
   "source": [
    "Bayesian search is employed to optimize the hyperparameters of the 7 models with 4 iterations and 5 cross-folds. "
   ]
  },
  {
   "cell_type": "code",
   "execution_count": 39,
   "metadata": {},
   "outputs": [
    {
     "name": "stdout",
     "output_type": "stream",
     "text": [
      "\u001b[1m\n",
      "**Model 1**\n",
      "\u001b[0m\n",
      "Best parameters:OrderedDict([('model__algorithm', 'ball_tree'), ('model__metric', 'manhattan'), ('model__n_neighbors', 13), ('model__weights', 'distance')])\n",
      "Best AUC: 0.818727405834324\n",
      "\u001b[1m\n",
      "**Model 2**\n",
      "\u001b[0m\n",
      "Best parameters:OrderedDict([('model__C', 0.1), ('model__gamma', 'auto'), ('model__kernel', 'poly')])\n",
      "Best AUC: 0.8079197182970768\n",
      "\u001b[1m\n",
      "**Model 3**\n",
      "\u001b[0m\n",
      "Best parameters:OrderedDict([('model__C', 10.0), ('model__solver', 'lbfgs')])\n",
      "Best AUC: 0.8043920789203808\n",
      "\u001b[1m\n",
      "**Model 4**\n",
      "\u001b[0m\n",
      "Best parameters:OrderedDict([('model__criterion', 'entropy'), ('model__max_leaf_nodes', 10)])\n",
      "Best AUC: 0.7858504179258897\n",
      "\u001b[1m\n",
      "**Model 5**\n",
      "\u001b[0m\n",
      "Best parameters:OrderedDict([('model__var_smoothing', 1e-10)])\n",
      "Best AUC: 0.7694083694083694\n",
      "\u001b[1m\n",
      "**Model 6**\n",
      "\u001b[0m\n",
      "Best parameters:OrderedDict([('model__criterion', 'entropy'), ('model__n_estimators', 100)])\n",
      "Best AUC: 0.8099337187387501\n",
      "\u001b[1m\n",
      "**Model 7**\n",
      "\u001b[0m\n",
      "Best parameters:OrderedDict([('model__learning_rate', 0.3), ('model__n_estimators', 50)])\n",
      "Best AUC: 0.8080799005327307\n"
     ]
    }
   ],
   "source": [
    "models = [model_1, model_2, model_3, model_4, model_5, model_6, model_7]\n",
    "best_params_list = [] \n",
    "i = 0\n",
    "for model in models:\n",
    "    pipe = Pipeline(steps=[\n",
    "        (\"preprocessor\", preprocessor),\n",
    "        (\"svd\", svd),\n",
    "        (\"model\", model)\n",
    "    ])\n",
    "    i+=1\n",
    "    if i == 1:\n",
    "        param_grid = {\n",
    "        'model__n_neighbors': [K-15, K-10, K-5, K, K+5, K+10, K+15],\n",
    "        'model__weights': ['uniform', 'distance'],\n",
    "        'model__metric': ['euclidean', 'manhattan', 'minkowski'],\n",
    "        'model__algorithm': ['ball_tree', \"kd_tree\", \"brute\", \"auto\"]\n",
    "        }\n",
    "    elif i ==2:\n",
    "        param_grid = {'model__kernel': [\"linear\", \"poly\", 'rbf'],\n",
    "                      'model__C': [0.001, 0.01, 0.1, 1.0, 10.0],\n",
    "                      \"model__gamma\": [\"auto\"]\n",
    "                 }\n",
    "    elif i == 3:\n",
    "        param_grid = {'model__solver': ['liblinear', 'newton-cg', 'lbfgs', 'sag', 'saga'],\n",
    "                      'model__C': [0.001, 0.01, 0.1, 1.0, 10.0]\n",
    "                     }\n",
    "    elif i == 4:\n",
    "        param_grid = {'model__criterion': [\"gini\", \"entropy\"],\n",
    "                  'model__max_leaf_nodes': [2, 5, 10, 20, 30, 50]\n",
    "                 }\n",
    "    elif i == 5:\n",
    "        param_grid = {'model__var_smoothing': [10**-6, 10**-7,10**-8, 10**-9, 10**-10]\n",
    "                     }     \n",
    "    elif i == 6:\n",
    "        param_grid = {'model__n_estimators': [50, 75, 100, 125, 150],\n",
    "                  'model__criterion': [\"gini\", \"entropy\"]\n",
    "                 }\n",
    "    else:\n",
    "        param_grid = {'model__n_estimators': [50, 75, 100, 125, 150],\n",
    "                  'model__learning_rate': [0.01, 0.05, 0.1, 0.2, 0.3, 0.5]\n",
    "                 }\n",
    "        \n",
    "\n",
    "    # Create the grid search object\n",
    "    bayes_search = BayesSearchCV(pipe, param_grid, scoring='roc_auc', cv=5, n_jobs=4, n_iter=5)\n",
    "    # Perform the grid search\n",
    "    bayes_search.fit(X, y)\n",
    "\n",
    "    # Get the best parameters and best score\n",
    "    best_params = bayes_search.best_params_\n",
    "    best_score = bayes_search.best_score_\n",
    "    best_params_list.append(best_params)\n",
    "\n",
    "    print(f\"\\033[1m\\n**Model {i}**\\n\\033[0m\")\n",
    "    print(f\"Best parameters:{best_params}\")\n",
    "    print(f\"Best AUC: {best_score}\")"
   ]
  },
  {
   "cell_type": "markdown",
   "metadata": {},
   "source": [
    "Gradient descent is also employed to optimize hyperparameters, demonstrating a slightly better AUC performance compared to Bayesian search."
   ]
  },
  {
   "cell_type": "code",
   "execution_count": 40,
   "metadata": {},
   "outputs": [
    {
     "name": "stdout",
     "output_type": "stream",
     "text": [
      "\u001b[1m\n",
      "**Model 1**\n",
      "\u001b[0m\n",
      "Best parameters: {'n_neighbors': 61, 'weights': 'distance', 'metric': 'manhattan', 'algorithm': 'ball_tree'}\n",
      "Best AUC: 0.8279564134910047\n",
      "\u001b[1m\n",
      "**Model 2**\n",
      "\u001b[0m\n",
      "Best parameters: {'kernel': 'linear', 'C': 12.679453397469366, 'gamma': 'auto'}\n",
      "Best AUC: 0.8060321695541821\n",
      "\u001b[1m\n",
      "**Model 3**\n",
      "\u001b[0m\n",
      "Best parameters: {'solver': 'sag', 'C': 40.376604974113064}\n",
      "Best AUC: 0.804992421973554\n",
      "\u001b[1m\n",
      "**Model 4**\n",
      "\u001b[0m\n",
      "Best parameters: {'criterion': 'entropy', 'max_leaf_nodes': 125}\n",
      "Best AUC: 0.7807248889009895\n",
      "\u001b[1m\n",
      "**Model 5**\n",
      "\u001b[0m\n",
      "Best parameters: {'var_smoothing': 3.063428418986814e-06}\n",
      "Best AUC: 0.769151079528438\n",
      "\u001b[1m\n",
      "**Model 6**\n",
      "\u001b[0m\n",
      "Best parameters: {'n_estimators': 46, 'criterion': 'entropy'}\n",
      "Best AUC: 0.808480583008885\n",
      "\u001b[1m\n",
      "**Model 7**\n",
      "\u001b[0m\n",
      "Best parameters: {'n_estimators': 21, 'learning_rate': 0.3168534683525445}\n",
      "Best AUC: 0.8060441189372007\n"
     ]
    }
   ],
   "source": [
    "# Define the search space for each model\n",
    "search_spaces = [\n",
    "    {  # Model 1\n",
    "        'n_neighbors': Integer(1, K + 55),\n",
    "        'weights': Categorical(['uniform', 'distance']),\n",
    "        'metric': Categorical(['euclidean', 'manhattan', 'minkowski']),\n",
    "        'algorithm': Categorical(['ball_tree', 'kd_tree', 'brute', 'auto'])\n",
    "    },\n",
    "    {  # Model 2\n",
    "        'kernel': Categorical([\"linear\", \"poly\", \"rbf\"]),\n",
    "        'C': Real(0.0001, 100.0),\n",
    "        'gamma': Categorical([\"auto\"])\n",
    "    },\n",
    "    {  # Model 3\n",
    "        'solver': Categorical(['liblinear', 'newton-cg', 'lbfgs', 'sag', 'saga']),\n",
    "        'C': Real(0.0001, 100.0)\n",
    "    },\n",
    "    {  # Model 4\n",
    "        'criterion': Categorical([\"gini\", \"entropy\"]),\n",
    "        'max_leaf_nodes': Integer(2, 500)\n",
    "    },\n",
    "    {  # Model 5\n",
    "        'var_smoothing': Real(1e-15, 1e-5)\n",
    "    },\n",
    "    {  # Model 6\n",
    "        'n_estimators': Integer(5, 500),\n",
    "        'criterion': Categorical([\"gini\", \"entropy\"])\n",
    "    },\n",
    "    {  # Model 7\n",
    "        'n_estimators': Integer(5, 500),\n",
    "        'learning_rate': Real(0.01, 0.5)\n",
    "    }\n",
    "]\n",
    "\n",
    "# Initialize a list to store the best parameters\n",
    "best_params_list = []\n",
    "\n",
    "# Perform hyperparameter optimization for each model\n",
    "for i, search_space in enumerate(search_spaces, start=1):\n",
    "    # Define the objective function to minimize\n",
    "    def objective(params):\n",
    "        # Create the pipeline with the specified hyperparameters\n",
    "        pipe = Pipeline(steps=[\n",
    "            (\"preprocessor\", preprocessor),\n",
    "            (\"svd\", svd),\n",
    "            (\"model\", models[i - 1])  # Use the corresponding model from the list\n",
    "        ])\n",
    "        \n",
    "        # Convert params to a dictionary\n",
    "        params_dict = {k: v for k, v in zip(search_space.keys(), params)}\n",
    "        \n",
    "        # Set the hyperparameters\n",
    "        pipe['model'].set_params(**params_dict)\n",
    "        \n",
    "        # Perform cross-validation and return the negative AUC score\n",
    "        return -np.mean(cross_val_score(pipe, X, y, cv=5, scoring='roc_auc'))\n",
    "\n",
    "    # Perform optimization using gp_minimize\n",
    "    result = gp_minimize(objective, dimensions=list(search_space.values()), n_calls=10)\n",
    "\n",
    "    # Get the best parameters\n",
    "    best_params = dict(zip(search_space.keys(), result.x))\n",
    "    best_params_list.append(best_params)\n",
    "\n",
    "    # Print the results\n",
    "    print(f\"\\033[1m\\n**Model {i}**\\n\\033[0m\")\n",
    "    print(f\"Best parameters: {best_params}\")\n",
    "    print(f\"Best AUC: {-result.fun}\")"
   ]
  },
  {
   "cell_type": "markdown",
   "metadata": {},
   "source": [
    "A stacked classifier is employed, integrating the seven optimized models along with their hyperparameters. The meta-classifier for the stacked ensemble is selected as another Random Forest model, fine-tuned through a straightforward grid search."
   ]
  },
  {
   "cell_type": "code",
   "execution_count": 41,
   "metadata": {},
   "outputs": [
    {
     "name": "stdout",
     "output_type": "stream",
     "text": [
      "Best parameters: {'model__meta_classifier__criterion': 'gini', 'model__meta_classifier__n_estimators': 1}\n"
     ]
    }
   ],
   "source": [
    "model_1 = KNeighborsClassifier(n_neighbors=best_params_list[0][\"n_neighbors\"], algorithm=best_params_list[0][\"algorithm\"], metric=best_params_list[0][\"metric\"], weights=best_params_list[0][\"weights\"])\n",
    "model_2 = svm.SVC(C=best_params_list[1][\"C\"], gamma=best_params_list[1][\"gamma\"], kernel=best_params_list[1][\"kernel\"] )\n",
    "model_3 = LogisticRegression(C=best_params_list[2][\"C\"] ,solver=best_params_list[2][\"solver\"])\n",
    "model_4 = DecisionTreeClassifier(criterion=best_params_list[3][\"criterion\"], max_leaf_nodes=best_params_list[3][\"max_leaf_nodes\"])\n",
    "model_5 = GaussianNB(var_smoothing=best_params_list[4][\"var_smoothing\"])\n",
    "model_6 = RandomForestClassifier(n_estimators=best_params_list[5][\"n_estimators\"], criterion=best_params_list[5][\"criterion\"])\n",
    "model_7 = XGBClassifier(n_estimators = best_params_list[6][\"n_estimators\"], learning_rate=best_params_list[6][\"learning_rate\"])\n",
    "model_0 = RandomForestClassifier()\n",
    "models = [model_1,model_2, model_3, model_4, model_5, model_6, model_7]\n",
    "model = StackingClassifier(classifiers=models, meta_classifier=model_0)\n",
    "pipe = Pipeline(steps=[\n",
    "        (\"preprocessor\", preprocessor),\n",
    "        (\"svd\", svd),\n",
    "        (\"model\", model)\n",
    "    ])\n",
    "param_grid = {\n",
    "    'model__meta_classifier__n_estimators': [1, 2, 5, 10, 20, 30, 50, 75, 100, 125, 150, 200],\n",
    "    'model__meta_classifier__criterion': [\"gini\", \"entropy\"]\n",
    "}\n",
    "\n",
    "# Create the grid search object\n",
    "grid_search = GridSearchCV(pipe, param_grid, scoring='roc_auc', cv=5, n_jobs=4)\n",
    "\n",
    "# Perform the grid search\n",
    "grid_search.fit(X, y)\n",
    "\n",
    "# Get the best parameters and best score\n",
    "best_params = grid_search.best_params_\n",
    "print(f\"Best parameters: {best_params}\")"
   ]
  },
  {
   "cell_type": "markdown",
   "metadata": {},
   "source": [
    "The optimised hyperparameters of the meta-classifier are integrated into the stacked classifier. The complete pipeline is defined, starting with preprocessing, followed by dimensionality reduction using singular value decomposition, and concluding with the model where the stacked ensemble is utilised."
   ]
  },
  {
   "cell_type": "code",
   "execution_count": 42,
   "metadata": {},
   "outputs": [],
   "source": [
    "model_0 = RandomForestClassifier(n_estimators=best_params[\"model__meta_classifier__n_estimators\"], criterion=best_params[\"model__meta_classifier__criterion\"])\n",
    "model = StackingClassifier(classifiers=models, meta_classifier=model_0)\n",
    "pipe = Pipeline(steps=[\n",
    "        (\"preprocessor\", preprocessor),\n",
    "        (\"svd\", svd),\n",
    "        (\"model\", model)\n",
    "    ])"
   ]
  },
  {
   "cell_type": "markdown",
   "metadata": {},
   "source": [
    "The training and test datasets are partitioned, allocating 20% of the data for testing purposes and reserving 80% for training the model."
   ]
  },
  {
   "cell_type": "code",
   "execution_count": 43,
   "metadata": {},
   "outputs": [],
   "source": [
    "X_train, X_test, y_train, y_test = train_test_split(X, y, test_size=0.2)"
   ]
  },
  {
   "cell_type": "markdown",
   "metadata": {},
   "source": [
    "The training data is fit into the pipeline."
   ]
  },
  {
   "cell_type": "code",
   "execution_count": 44,
   "metadata": {},
   "outputs": [
    {
     "data": {
      "text/plain": [
       "Pipeline(steps=[('preprocessor',\n",
       "                 ColumnTransformer(transformers=[('num',\n",
       "                                                  Pipeline(steps=[('imputer',\n",
       "                                                                   SimpleImputer()),\n",
       "                                                                  ('scaler',\n",
       "                                                                   StandardScaler())]),\n",
       "                                                  Index(['CoapplicantIncome', 'Loan_Amount_Term', 'Credit_History'], dtype='object')),\n",
       "                                                 ('cat',\n",
       "                                                  Pipeline(steps=[('imputer',\n",
       "                                                                   SimpleImputer(strategy='most_frequent')),\n",
       "                                                                  ('onehot',\n",
       "                                                                   OneHotEncoder(handle_unknown='ignore'))...\n",
       "                                                               learning_rate=0.3168534683525445,\n",
       "                                                               max_bin=None,\n",
       "                                                               max_cat_to_onehot=None,\n",
       "                                                               max_delta_step=None,\n",
       "                                                               max_depth=None,\n",
       "                                                               max_leaves=None,\n",
       "                                                               min_child_weight=None,\n",
       "                                                               missing=nan,\n",
       "                                                               monotone_constraints=None,\n",
       "                                                               n_estimators=21,\n",
       "                                                               n_jobs=None,\n",
       "                                                               num_parallel_tree=None,\n",
       "                                                               predictor=None,\n",
       "                                                               random_state=None,\n",
       "                                                               reg_alpha=None,\n",
       "                                                               reg_lambda=None, ...)],\n",
       "                                    meta_classifier=RandomForestClassifier(n_estimators=1)))])"
      ]
     },
     "execution_count": 44,
     "metadata": {},
     "output_type": "execute_result"
    }
   ],
   "source": [
    "pipe.fit(X_train, y_train)"
   ]
  },
  {
   "cell_type": "markdown",
   "metadata": {},
   "source": [
    "The loan status predictions are computed using the test dataset, specifically the features represented by the test variable X. Also the true values of the the loan status is also shown below. "
   ]
  },
  {
   "cell_type": "code",
   "execution_count": 54,
   "metadata": {},
   "outputs": [
    {
     "name": "stdout",
     "output_type": "stream",
     "text": [
      "The prediction for loan status:\n",
      "[1 1 1 0 1 1 1 0 0 0 1 1 1 1 1 1 0 1 1 0 1 0 1 1 1 1 1 1 1 1 1 1 1 1 1 0 1\n",
      " 1 1 1 1 1 1 1 1 0 1 1 1 1 1 0 0 1 1 1 1 1 1 1 1 1 1 1 0 0 1 0 1 1 1 1 0 0\n",
      " 1]\n",
      "\n",
      "The true status of the loans:\n",
      "[1 1 1 1 1 1 1 0 1 0 1 0 1 1 1 1 0 0 1 1 1 0 1 1 1 1 1 1 1 1 1 1 1 1 1 0 1\n",
      " 1 1 1 1 1 1 0 1 0 1 1 1 1 1 0 0 0 1 1 0 1 1 1 1 1 1 1 0 0 1 1 0 1 1 1 0 0\n",
      " 1]\n",
      "\n"
     ]
    }
   ],
   "source": [
    "y_pred = pipe.predict(X_test)\n",
    "print(f\"The prediction for loan status:\\n{y_pred}\\n\")\n",
    "print(f\"The true status of the loans:\\n{y_test}\\n\")"
   ]
  },
  {
   "cell_type": "markdown",
   "metadata": {},
   "source": [
    "The confusion matrix visually displays the performance of a classification model, where the diagonal elements represent the number of correct predictions for each class, and the off-diagonal elements represent the incorrect predictions."
   ]
  },
  {
   "cell_type": "code",
   "execution_count": 46,
   "metadata": {},
   "outputs": [
    {
     "name": "stdout",
     "output_type": "stream",
     "text": [
      "The confusion matrix is:\n",
      " [[12  6]\n",
      " [ 4 53]]\n",
      "\n"
     ]
    }
   ],
   "source": [
    "cm = confusion_matrix(y_test, y_pred)\n",
    "print(f\"The confusion matrix is:\\n {cm}\\n\")"
   ]
  },
  {
   "cell_type": "markdown",
   "metadata": {},
   "source": [
    "The three metrics below summarize the performance of the model:\n",
    "\n",
    "- Accuracy: It indicates the proportion of correctly classified instances among the total number of instances.\n",
    "- F1 score: It is the harmonic mean of precision and recall, providing a balance between them.\n",
    "- AUC (Area Under the ROC Curve): It quantifies the model's ability to distinguish between the positive and negative classes."
   ]
  },
  {
   "cell_type": "code",
   "execution_count": 47,
   "metadata": {},
   "outputs": [
    {
     "name": "stdout",
     "output_type": "stream",
     "text": [
      "The accuracy is: 0.8667\n",
      "\n"
     ]
    }
   ],
   "source": [
    "accuracy = accuracy_score(y_test, y_pred)\n",
    "print(f\"The accuracy is: {accuracy:.4f}\\n\")"
   ]
  },
  {
   "cell_type": "code",
   "execution_count": 48,
   "metadata": {},
   "outputs": [
    {
     "name": "stdout",
     "output_type": "stream",
     "text": [
      "The f1_score is: 0.9138\n",
      "\n"
     ]
    }
   ],
   "source": [
    "f1_score = f1_score(y_test, y_pred)\n",
    "print(f\"The f1_score is: {f1_score:.4f}\\n\")"
   ]
  },
  {
   "cell_type": "code",
   "execution_count": 49,
   "metadata": {},
   "outputs": [
    {
     "name": "stdout",
     "output_type": "stream",
     "text": [
      "The AUC is: 0.7982\n",
      "\n"
     ]
    }
   ],
   "source": [
    "fpr, tpr, thresholds = roc_curve(y_test, y_pred)\n",
    "auc = roc_auc_score(y_test, y_pred)\n",
    "print(f\"The AUC is: {auc:.4f}\\n\")"
   ]
  },
  {
   "cell_type": "code",
   "execution_count": 50,
   "metadata": {},
   "outputs": [
    {
     "data": {
      "image/png": "[encoded data removed]",
      "text/plain": [
       "<Figure size 576x432 with 1 Axes>"
      ]
     },
     "metadata": {},
     "output_type": "display_data"
    }
   ],
   "source": [
    "plt.figure(figsize=(8, 6))\n",
    "plt.plot(fpr, tpr, color='blue', lw=2, label='ROC curve (AUC = %0.2f)' % auc)\n",
    "plt.plot([0, 1], [0, 1], color='gray', linestyle='--')\n",
    "plt.xlim([0.0, 1.05])\n",
    "plt.ylim([0.0, 1.05])\n",
    "plt.xlabel('False Positive Rate')\n",
    "plt.ylabel('True Positive Rate')\n",
    "plt.title('Receiver Operating Characteristic (ROC) Curve')\n",
    "plt.legend(loc='lower right')\n",
    "plt.show()"
   ]
  },
  {
   "cell_type": "code",
   "execution_count": 56,
   "metadata": {},
   "outputs": [
    {
     "data": {
      "text/plain": [
       "'C:\\\\Users\\\\karuj\\\\PythonPersonal'"
      ]
     },
     "execution_count": 56,
     "metadata": {},
     "output_type": "execute_result"
    }
   ],
   "source": [
    "import os\n",
    "\n",
    "current_dir = os.getcwd()\n",
    "current_dir"
   ]
  },
  {
   "cell_type": "markdown",
   "metadata": {},
   "source": [
    "The graph displays the Receiver Operating Characteristic (ROC) curve, which illustrates the trade-off between the true positive rate (sensitivity) and the false positive rate (1-specificity) across different threshold values. It visually represents the performance of the binary classification model."
   ]
  }
 ],
 "metadata": {
  "kernelspec": {
   "display_name": "Python 3",
   "language": "python",
   "name": "python3"
  },
  "language_info": {
   "codemirror_mode": {
    "name": "ipython",
    "version": 3
   },
   "file_extension": ".py",
   "mimetype": "text/x-python",
   "name": "python",
   "nbconvert_exporter": "python",
   "pygments_lexer": "ipython3",
   "version": "3.7.4"
  }
 },
 "nbformat": 4,
 "nbformat_minor": 2
}
